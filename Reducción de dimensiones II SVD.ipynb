{
 "cells": [
  {
   "cell_type": "markdown",
   "id": "0e259830",
   "metadata": {},
   "source": [
    "# PRÁCTICA 29"
   ]
  },
  {
   "cell_type": "code",
   "execution_count": 1,
   "id": "dba11c32",
   "metadata": {},
   "outputs": [],
   "source": [
    "import pandas as pd\n",
    "import numpy as np\n",
    "import matplotlib.pyplot as plt"
   ]
  },
  {
   "cell_type": "code",
   "execution_count": 20,
   "id": "1ca845e3",
   "metadata": {},
   "outputs": [
    {
     "data": {
      "text/html": [
       "<div>\n",
       "<style scoped>\n",
       "    .dataframe tbody tr th:only-of-type {\n",
       "        vertical-align: middle;\n",
       "    }\n",
       "\n",
       "    .dataframe tbody tr th {\n",
       "        vertical-align: top;\n",
       "    }\n",
       "\n",
       "    .dataframe thead th {\n",
       "        text-align: right;\n",
       "    }\n",
       "</style>\n",
       "<table border=\"1\" class=\"dataframe\">\n",
       "  <thead>\n",
       "    <tr style=\"text-align: right;\">\n",
       "      <th></th>\n",
       "      <th>Matematicas</th>\n",
       "      <th>Ciencias</th>\n",
       "      <th>Español</th>\n",
       "      <th>Historia</th>\n",
       "      <th>EFisica</th>\n",
       "    </tr>\n",
       "  </thead>\n",
       "  <tbody>\n",
       "    <tr>\n",
       "      <th>Lucia</th>\n",
       "      <td>7.0</td>\n",
       "      <td>6.5</td>\n",
       "      <td>9.2</td>\n",
       "      <td>8.6</td>\n",
       "      <td>8.0</td>\n",
       "    </tr>\n",
       "    <tr>\n",
       "      <th>Pedro</th>\n",
       "      <td>7.5</td>\n",
       "      <td>9.4</td>\n",
       "      <td>7.3</td>\n",
       "      <td>7.0</td>\n",
       "      <td>7.0</td>\n",
       "    </tr>\n",
       "    <tr>\n",
       "      <th>Ines</th>\n",
       "      <td>7.6</td>\n",
       "      <td>9.2</td>\n",
       "      <td>8.0</td>\n",
       "      <td>8.0</td>\n",
       "      <td>7.5</td>\n",
       "    </tr>\n",
       "    <tr>\n",
       "      <th>Luis</th>\n",
       "      <td>5.0</td>\n",
       "      <td>6.5</td>\n",
       "      <td>6.5</td>\n",
       "      <td>7.0</td>\n",
       "      <td>9.0</td>\n",
       "    </tr>\n",
       "    <tr>\n",
       "      <th>Andres</th>\n",
       "      <td>6.0</td>\n",
       "      <td>6.0</td>\n",
       "      <td>7.8</td>\n",
       "      <td>8.9</td>\n",
       "      <td>7.3</td>\n",
       "    </tr>\n",
       "    <tr>\n",
       "      <th>Ana</th>\n",
       "      <td>7.8</td>\n",
       "      <td>9.6</td>\n",
       "      <td>7.7</td>\n",
       "      <td>8.0</td>\n",
       "      <td>6.5</td>\n",
       "    </tr>\n",
       "    <tr>\n",
       "      <th>Carlos</th>\n",
       "      <td>6.3</td>\n",
       "      <td>6.4</td>\n",
       "      <td>8.2</td>\n",
       "      <td>9.0</td>\n",
       "      <td>7.2</td>\n",
       "    </tr>\n",
       "    <tr>\n",
       "      <th>Jose</th>\n",
       "      <td>7.9</td>\n",
       "      <td>9.7</td>\n",
       "      <td>7.5</td>\n",
       "      <td>8.0</td>\n",
       "      <td>6.0</td>\n",
       "    </tr>\n",
       "    <tr>\n",
       "      <th>Sonia</th>\n",
       "      <td>6.0</td>\n",
       "      <td>6.0</td>\n",
       "      <td>6.5</td>\n",
       "      <td>5.5</td>\n",
       "      <td>8.7</td>\n",
       "    </tr>\n",
       "    <tr>\n",
       "      <th>Maria</th>\n",
       "      <td>6.8</td>\n",
       "      <td>7.2</td>\n",
       "      <td>8.7</td>\n",
       "      <td>9.0</td>\n",
       "      <td>7.0</td>\n",
       "    </tr>\n",
       "  </tbody>\n",
       "</table>\n",
       "</div>"
      ],
      "text/plain": [
       "        Matematicas  Ciencias  Español  Historia  EFisica\n",
       "Lucia           7.0       6.5      9.2       8.6      8.0\n",
       "Pedro           7.5       9.4      7.3       7.0      7.0\n",
       "Ines            7.6       9.2      8.0       8.0      7.5\n",
       "Luis            5.0       6.5      6.5       7.0      9.0\n",
       "Andres          6.0       6.0      7.8       8.9      7.3\n",
       "Ana             7.8       9.6      7.7       8.0      6.5\n",
       "Carlos          6.3       6.4      8.2       9.0      7.2\n",
       "Jose            7.9       9.7      7.5       8.0      6.0\n",
       "Sonia           6.0       6.0      6.5       5.5      8.7\n",
       "Maria           6.8       7.2      8.7       9.0      7.0"
      ]
     },
     "execution_count": 20,
     "metadata": {},
     "output_type": "execute_result"
    }
   ],
   "source": [
    "# creamos un DF \n",
    "\n",
    "# creamos un DF con numpy\n",
    "\n",
    "df = pd.DataFrame(np.array([[7,6.5,9.2,8.6,8],\n",
    "                            [7.5,9.4,7.3,7,7],\n",
    "                            [7.6,9.2,8,8,7.5],\n",
    "                            [5,6.5,6.5,7,9],\n",
    "                            [6,6,7.8,8.9,7.3],\n",
    "                            [7.8,9.6,7.7,8,6.5],\n",
    "                            [6.3,6.4,8.2,9,7.2],\n",
    "                            [7.9,9.7,7.5,8,6],\n",
    "                            [6,6,6.5,5.5,8.7],\n",
    "                            [6.8,7.2,8.7,9,7]]),\n",
    "                \n",
    "                 index = ['Lucia','Pedro','Ines','Luis','Andres','Ana','Carlos','Jose','Sonia','Maria'],\n",
    "                 columns = ['Matematicas','Ciencias','Español','Historia','EFisica'])\n",
    "\n",
    "df"
   ]
  },
  {
   "cell_type": "code",
   "execution_count": 23,
   "id": "a3a7ec91",
   "metadata": {},
   "outputs": [
    {
     "data": {
      "text/plain": [
       "['Lucia',\n",
       " 'Pedro',\n",
       " 'Ines',\n",
       " 'Luis',\n",
       " 'Andres',\n",
       " 'Ana',\n",
       " 'Carlos',\n",
       " 'Jose',\n",
       " 'Sonia',\n",
       " 'Maria']"
      ]
     },
     "execution_count": 23,
     "metadata": {},
     "output_type": "execute_result"
    }
   ],
   "source": [
    "label = df.index.tolist()\n",
    "label"
   ]
  },
  {
   "cell_type": "code",
   "execution_count": 27,
   "id": "a24b92ef",
   "metadata": {},
   "outputs": [
    {
     "data": {
      "text/html": [
       "<div>\n",
       "<style scoped>\n",
       "    .dataframe tbody tr th:only-of-type {\n",
       "        vertical-align: middle;\n",
       "    }\n",
       "\n",
       "    .dataframe tbody tr th {\n",
       "        vertical-align: top;\n",
       "    }\n",
       "\n",
       "    .dataframe thead th {\n",
       "        text-align: right;\n",
       "    }\n",
       "</style>\n",
       "<table border=\"1\" class=\"dataframe\">\n",
       "  <thead>\n",
       "    <tr style=\"text-align: right;\">\n",
       "      <th></th>\n",
       "      <th>Matematicas</th>\n",
       "      <th>Ciencias</th>\n",
       "      <th>Español</th>\n",
       "      <th>Historia</th>\n",
       "      <th>EFisica</th>\n",
       "    </tr>\n",
       "  </thead>\n",
       "  <tbody>\n",
       "    <tr>\n",
       "      <th>Lucia</th>\n",
       "      <td>7.0</td>\n",
       "      <td>6.5</td>\n",
       "      <td>9.2</td>\n",
       "      <td>8.6</td>\n",
       "      <td>8.0</td>\n",
       "    </tr>\n",
       "    <tr>\n",
       "      <th>Pedro</th>\n",
       "      <td>7.5</td>\n",
       "      <td>9.4</td>\n",
       "      <td>7.3</td>\n",
       "      <td>7.0</td>\n",
       "      <td>7.0</td>\n",
       "    </tr>\n",
       "    <tr>\n",
       "      <th>Ines</th>\n",
       "      <td>7.6</td>\n",
       "      <td>9.2</td>\n",
       "      <td>8.0</td>\n",
       "      <td>8.0</td>\n",
       "      <td>7.5</td>\n",
       "    </tr>\n",
       "    <tr>\n",
       "      <th>Luis</th>\n",
       "      <td>5.0</td>\n",
       "      <td>6.5</td>\n",
       "      <td>6.5</td>\n",
       "      <td>7.0</td>\n",
       "      <td>9.0</td>\n",
       "    </tr>\n",
       "    <tr>\n",
       "      <th>Andres</th>\n",
       "      <td>6.0</td>\n",
       "      <td>6.0</td>\n",
       "      <td>7.8</td>\n",
       "      <td>8.9</td>\n",
       "      <td>7.3</td>\n",
       "    </tr>\n",
       "    <tr>\n",
       "      <th>Ana</th>\n",
       "      <td>7.8</td>\n",
       "      <td>9.6</td>\n",
       "      <td>7.7</td>\n",
       "      <td>8.0</td>\n",
       "      <td>6.5</td>\n",
       "    </tr>\n",
       "    <tr>\n",
       "      <th>Carlos</th>\n",
       "      <td>6.3</td>\n",
       "      <td>6.4</td>\n",
       "      <td>8.2</td>\n",
       "      <td>9.0</td>\n",
       "      <td>7.2</td>\n",
       "    </tr>\n",
       "    <tr>\n",
       "      <th>Jose</th>\n",
       "      <td>7.9</td>\n",
       "      <td>9.7</td>\n",
       "      <td>7.5</td>\n",
       "      <td>8.0</td>\n",
       "      <td>6.0</td>\n",
       "    </tr>\n",
       "    <tr>\n",
       "      <th>Sonia</th>\n",
       "      <td>6.0</td>\n",
       "      <td>6.0</td>\n",
       "      <td>6.5</td>\n",
       "      <td>5.5</td>\n",
       "      <td>8.7</td>\n",
       "    </tr>\n",
       "    <tr>\n",
       "      <th>Maria</th>\n",
       "      <td>6.8</td>\n",
       "      <td>7.2</td>\n",
       "      <td>8.7</td>\n",
       "      <td>9.0</td>\n",
       "      <td>7.0</td>\n",
       "    </tr>\n",
       "  </tbody>\n",
       "</table>\n",
       "</div>"
      ],
      "text/plain": [
       "        Matematicas  Ciencias  Español  Historia  EFisica\n",
       "Lucia           7.0       6.5      9.2       8.6      8.0\n",
       "Pedro           7.5       9.4      7.3       7.0      7.0\n",
       "Ines            7.6       9.2      8.0       8.0      7.5\n",
       "Luis            5.0       6.5      6.5       7.0      9.0\n",
       "Andres          6.0       6.0      7.8       8.9      7.3\n",
       "Ana             7.8       9.6      7.7       8.0      6.5\n",
       "Carlos          6.3       6.4      8.2       9.0      7.2\n",
       "Jose            7.9       9.7      7.5       8.0      6.0\n",
       "Sonia           6.0       6.0      6.5       5.5      8.7\n",
       "Maria           6.8       7.2      8.7       9.0      7.0"
      ]
     },
     "execution_count": 27,
     "metadata": {},
     "output_type": "execute_result"
    }
   ],
   "source": [
    "from numpy import array\n",
    "from sklearn.decomposition import TruncatedSVD\n",
    "\n",
    "A = df\n",
    "A"
   ]
  },
  {
   "cell_type": "code",
   "execution_count": 28,
   "id": "fffa166a",
   "metadata": {},
   "outputs": [],
   "source": [
    "from numpy import diag\n",
    "from numpy import zeros\n",
    "from scipy.linalg import svd"
   ]
  },
  {
   "cell_type": "code",
   "execution_count": 29,
   "id": "74aa143e",
   "metadata": {},
   "outputs": [],
   "source": [
    "U, s, VT = svd(A)  \n",
    "Sigma = zeros((A.shape[0], A.shape[1]))\n",
    "Sigma[:A.shape[1],:A.shape[1]] = diag(s)"
   ]
  },
  {
   "cell_type": "code",
   "execution_count": 30,
   "id": "ac00b963",
   "metadata": {},
   "outputs": [
    {
     "name": "stdout",
     "output_type": "stream",
     "text": [
      "Matriz U:\n",
      "[[-3.30904778e-01 -2.98442471e-01  1.95957496e-01  5.49129984e-01\n",
      "  -3.41498230e-01  3.14150349e-02 -1.23395489e-01  1.44668847e-01\n",
      "  -3.94701586e-01 -3.89792548e-01]\n",
      " [-3.20798129e-01  3.55909651e-01 -2.40201517e-01  6.92729616e-02\n",
      "  -2.04368756e-01 -4.82498850e-01  2.12566116e-01 -5.29979923e-01\n",
      "  -2.91960519e-01  1.48477689e-01]\n",
      " [-3.38871518e-01  2.14752307e-01 -1.01355072e-01 -1.12970083e-02\n",
      "  -1.76844101e-01 -1.27934010e-01 -3.25968835e-01 -5.72499990e-02\n",
      "   7.00049221e-01 -4.25915443e-01]\n",
      " [-2.86319969e-01 -3.47796853e-01 -4.56775340e-01 -6.26123724e-01\n",
      "  -3.29136285e-01  7.19838459e-02 -5.36517108e-04  2.16809671e-01\n",
      "  -1.85075729e-01 -4.01432467e-02]\n",
      " [-3.03747698e-01 -3.04664300e-01  2.89885414e-01 -2.58403657e-01\n",
      "   5.09400304e-01 -1.58301296e-01 -4.86485858e-01 -3.39970765e-01\n",
      "  -1.65040306e-01  8.72429330e-03]\n",
      " [-3.33011382e-01  3.96082489e-01  2.51606890e-02 -5.94976208e-02\n",
      "   5.78210369e-02  8.06621727e-01  1.34546582e-02 -2.29782306e-01\n",
      "  -1.43611096e-01 -2.14962316e-02]\n",
      " [-3.13003741e-01 -2.44042780e-01  3.27809809e-01 -1.29815059e-01\n",
      "   1.75652482e-01 -3.52533633e-02  7.64914176e-01 -5.44057025e-02\n",
      "   2.27556312e-01 -2.15007938e-01]\n",
      " [-3.28787999e-01  4.75531970e-01  9.14254492e-02 -7.72474797e-02\n",
      "   3.06415596e-01 -2.40842651e-01 -5.18130571e-03  6.78727567e-01\n",
      "  -1.96390068e-01  1.67121472e-02]\n",
      " [-2.73896980e-01 -2.64522156e-01 -6.03090161e-01  4.52523149e-01\n",
      "   4.34056879e-01  9.18463660e-02  6.22904133e-02  6.57998448e-02\n",
      "   1.69210215e-01  2.29849057e-01]\n",
      " [-3.26383007e-01 -1.08710765e-01  3.47541493e-01  5.99185845e-02\n",
      "  -3.55001709e-01  3.57424428e-02 -8.65047599e-02  1.07552174e-01\n",
      "   2.60388740e-01  7.36969606e-01]]\n"
     ]
    }
   ],
   "source": [
    "print('Matriz U:')\n",
    "print(U)"
   ]
  },
  {
   "cell_type": "code",
   "execution_count": 31,
   "id": "44e2b0e6",
   "metadata": {},
   "outputs": [
    {
     "name": "stdout",
     "output_type": "stream",
     "text": [
      "Matriz Sigma:\n",
      "[[53.21335049  0.          0.          0.          0.        ]\n",
      " [ 0.          5.35631448  0.          0.          0.        ]\n",
      " [ 0.          0.          3.80560674  0.          0.        ]\n",
      " [ 0.          0.          0.          1.46904724  0.        ]\n",
      " [ 0.          0.          0.          0.          0.47799818]\n",
      " [ 0.          0.          0.          0.          0.        ]\n",
      " [ 0.          0.          0.          0.          0.        ]\n",
      " [ 0.          0.          0.          0.          0.        ]\n",
      " [ 0.          0.          0.          0.          0.        ]\n",
      " [ 0.          0.          0.          0.          0.        ]]\n"
     ]
    }
   ],
   "source": [
    "print('Matriz Sigma:')\n",
    "print(Sigma)"
   ]
  },
  {
   "cell_type": "code",
   "execution_count": 32,
   "id": "0b0f7fab",
   "metadata": {},
   "outputs": [
    {
     "name": "stdout",
     "output_type": "stream",
     "text": [
      "matriz VT:\n",
      "[[-0.40556463 -0.45759727 -0.46123811 -0.47103299 -0.43761787]\n",
      " [ 0.30388113  0.70497323 -0.20845983 -0.2165757  -0.56595801]\n",
      " [-0.00426062 -0.27229676  0.31573346  0.5963283  -0.6859601 ]\n",
      " [ 0.56293162 -0.34606734  0.50555254 -0.5444058  -0.1066974 ]\n",
      " [ 0.65288853 -0.31576789 -0.62332408  0.28149203  0.07909827]]\n"
     ]
    }
   ],
   "source": [
    "print('matriz VT:')\n",
    "print(VT)"
   ]
  },
  {
   "cell_type": "code",
   "execution_count": 33,
   "id": "540e32b6",
   "metadata": {},
   "outputs": [
    {
     "data": {
      "text/plain": [
       "array([[7. , 6.5, 9.2, 8.6, 8. ],\n",
       "       [7.5, 9.4, 7.3, 7. , 7. ],\n",
       "       [7.6, 9.2, 8. , 8. , 7.5],\n",
       "       [5. , 6.5, 6.5, 7. , 9. ],\n",
       "       [6. , 6. , 7.8, 8.9, 7.3],\n",
       "       [7.8, 9.6, 7.7, 8. , 6.5],\n",
       "       [6.3, 6.4, 8.2, 9. , 7.2],\n",
       "       [7.9, 9.7, 7.5, 8. , 6. ],\n",
       "       [6. , 6. , 6.5, 5.5, 8.7],\n",
       "       [6.8, 7.2, 8.7, 9. , 7. ]])"
      ]
     },
     "execution_count": 33,
     "metadata": {},
     "output_type": "execute_result"
    }
   ],
   "source": [
    "# recostruir la matriz original\n",
    "\n",
    "B = U.dot(Sigma.dot(VT))\n",
    "B"
   ]
  },
  {
   "cell_type": "code",
   "execution_count": 34,
   "id": "f12b566a",
   "metadata": {},
   "outputs": [
    {
     "name": "stdout",
     "output_type": "stream",
     "text": [
      "U reducida:\n",
      " [[-0.33090478 -0.29844247]\n",
      " [-0.32079813  0.35590965]\n",
      " [-0.33887152  0.21475231]\n",
      " [-0.28631997 -0.34779685]\n",
      " [-0.3037477  -0.3046643 ]\n",
      " [-0.33301138  0.39608249]\n",
      " [-0.31300374 -0.24404278]\n",
      " [-0.328788    0.47553197]\n",
      " [-0.27389698 -0.26452216]\n",
      " [-0.32638301 -0.10871076]]\n"
     ]
    }
   ],
   "source": [
    "# reduccion a dos dimenciones\n",
    "\n",
    "n_elements = 2\n",
    "Ureduced2 = U[:, :n_elements]\n",
    "print('U reducida:\\n', Ureduced2)"
   ]
  },
  {
   "cell_type": "code",
   "execution_count": 35,
   "id": "9db18e5f",
   "metadata": {},
   "outputs": [
    {
     "name": "stdout",
     "output_type": "stream",
     "text": [
      "Matriz Sigma Reducida:\n",
      " [[53.21335049  0.        ]\n",
      " [ 0.          5.35631448]]\n"
     ]
    }
   ],
   "source": [
    "SigmaReduced2 = Sigma[:n_elements, :n_elements]\n",
    "print('Matriz Sigma Reducida:\\n', SigmaReduced2)"
   ]
  },
  {
   "cell_type": "code",
   "execution_count": 36,
   "id": "912b2904",
   "metadata": {},
   "outputs": [
    {
     "name": "stdout",
     "output_type": "stream",
     "text": [
      "Matriz VT Reducida:\n",
      " [[-0.40556463 -0.45759727 -0.46123811 -0.47103299 -0.43761787]\n",
      " [ 0.30388113  0.70497323 -0.20845983 -0.2165757  -0.56595801]]\n"
     ]
    }
   ],
   "source": [
    "VTReduced2 = VT[:n_elements, :]\n",
    "print('Matriz VT Reducida:\\n', VTReduced2)"
   ]
  },
  {
   "cell_type": "code",
   "execution_count": 37,
   "id": "312c06c9",
   "metadata": {},
   "outputs": [
    {
     "name": "stdout",
     "output_type": "stream",
     "text": [
      "Matriz A transformada:\n",
      " [[6.65563617 6.93068907 8.45496902 8.64041633 8.61053016]\n",
      " [7.50259774 9.15546106 7.47627701 7.62801112 6.39154032]\n",
      " [7.66288835 9.06253486 8.0774837  8.24477427 7.24032869]\n",
      " [5.61309793 5.65867129 7.41578628 7.58014066 7.72189396]\n",
      " [6.05941975 6.24591247 7.7953721  7.96693512 7.99698132]\n",
      " [7.83156613 9.60455223 7.73118336 7.88753689 6.55416982]\n",
      " [6.35785122 6.70021013 7.95486409 8.12861624 8.02875678]\n",
      " [7.86973795 9.80171752 7.53881312 7.68951159 6.21497236]\n",
      " [5.48053658 5.67061811 7.01789357 7.17215282 7.18015541]\n",
      " [6.86687283 7.53702066 8.13213661 8.30697925 7.93006916]]\n"
     ]
    }
   ],
   "source": [
    "AReduced2 = Ureduced2.dot(SigmaReduced2.dot(VTReduced2))\n",
    "print('Matriz A transformada:\\n', AReduced2)"
   ]
  },
  {
   "cell_type": "code",
   "execution_count": 38,
   "id": "ae81f9f6",
   "metadata": {},
   "outputs": [
    {
     "name": "stdout",
     "output_type": "stream",
     "text": [
      "Matriz T (2 dimensiones):\n",
      " [[-17.60855193  -1.59855173]\n",
      " [-17.07074326   1.90636402]\n",
      " [-18.03248887   1.15028089]\n",
      " [-15.23604486  -1.86290932]\n",
      " [-16.1634327   -1.6318778 ]\n",
      " [-17.7206514    2.12154237]\n",
      " [-16.65597775  -1.30716988]\n",
      " [-17.49591103   2.54709878]\n",
      " [-14.57497601  -1.41686385]\n",
      " [-17.36793336  -0.58228904]]\n"
     ]
    }
   ],
   "source": [
    "# obtenemos T2\n",
    "\n",
    "T2 = Ureduced2.dot(SigmaReduced2)\n",
    "print('Matriz T (2 dimensiones):\\n', T2)"
   ]
  },
  {
   "cell_type": "code",
   "execution_count": 39,
   "id": "7f63140c",
   "metadata": {},
   "outputs": [
    {
     "data": {
      "image/png": "[encoded data removed]",
      "text/plain": [
       "<Figure size 640x480 with 1 Axes>"
      ]
     },
     "metadata": {},
     "output_type": "display_data"
    }
   ],
   "source": [
    "# graficamos T2 \n",
    "\n",
    "df = pd.DataFrame(T2, columns = ['a','b'])\n",
    "df.plot(kind = 'scatter', x = 'a', y = 'b')\n",
    "plt.show()"
   ]
  },
  {
   "cell_type": "code",
   "execution_count": 40,
   "id": "f4e2f2a6",
   "metadata": {},
   "outputs": [
    {
     "data": {
      "image/png": "[encoded data removed]",
      "text/plain": [
       "<Figure size 640x480 with 1 Axes>"
      ]
     },
     "metadata": {},
     "output_type": "display_data"
    }
   ],
   "source": [
    "# colocamos etiquetas\n",
    "\n",
    "df = pd.DataFrame(T2, columns = ['a','b'])\n",
    "x = df.iloc[:,0]\n",
    "y = df.iloc[:,1]\n",
    "\n",
    "# convertimos x y y a arreglos np\n",
    "\n",
    "x = x.to_numpy()\n",
    "y = y.to_numpy()\n",
    "\n",
    "fig, ax = plt.subplots()\n",
    "ax.set_title('Mapa de Observaciones')\n",
    "ax.scatter(x, y)\n",
    "\n",
    "# agregamos las etiquetas\n",
    "\n",
    "for i, txt in enumerate(label):\n",
    "    ax.annotate(txt, (x[i], y[i]))"
   ]
  },
  {
   "cell_type": "code",
   "execution_count": 41,
   "id": "93ec93e7",
   "metadata": {},
   "outputs": [
    {
     "name": "stdout",
     "output_type": "stream",
     "text": [
      "U Reducida:\n",
      " [[-0.33090478 -0.29844247  0.1959575 ]\n",
      " [-0.32079813  0.35590965 -0.24020152]\n",
      " [-0.33887152  0.21475231 -0.10135507]\n",
      " [-0.28631997 -0.34779685 -0.45677534]\n",
      " [-0.3037477  -0.3046643   0.28988541]\n",
      " [-0.33301138  0.39608249  0.02516069]\n",
      " [-0.31300374 -0.24404278  0.32780981]\n",
      " [-0.328788    0.47553197  0.09142545]\n",
      " [-0.27389698 -0.26452216 -0.60309016]\n",
      " [-0.32638301 -0.10871076  0.34754149]]\n",
      "Matriz Sigma Reducida:\n",
      " [[53.21335049  0.          0.        ]\n",
      " [ 0.          5.35631448  0.        ]\n",
      " [ 0.          0.          3.80560674]]\n",
      "VT Reducida:\n",
      " [[-0.40556463 -0.45759727 -0.46123811 -0.47103299 -0.43761787]\n",
      " [ 0.30388113  0.70497323 -0.20845983 -0.2165757  -0.56595801]\n",
      " [-0.00426062 -0.27229676  0.31573346  0.5963283  -0.6859601 ]]\n",
      "Matriz A Transformada:\n",
      " [[6.65245886 6.72762726 8.69042319 9.08512051 8.09898421]\n",
      " [7.50649243 9.40437093 7.1876611  7.08289996 7.01858503]\n",
      " [7.66453175 9.1675645  7.95569976 8.01475998 7.50491554]\n",
      " [5.6205042  6.13200674 6.8669445  6.54353881 8.91430342]\n",
      " [6.05471948 5.94551744 8.14368606 8.62479847 7.24023707]\n",
      " [7.83115817 9.57847935 7.76141538 7.94463634 6.48848799]\n",
      " [6.35253602 6.36051578 8.34874639 8.87254488 7.17301112]\n",
      " [7.86825556 9.7069775  7.64866605 7.89699168 5.97630674]\n",
      " [5.49031524 6.29557293 6.29324613 5.80350542 8.75451889]\n",
      " [6.86123771 7.17687926 8.54972766 9.09568679 7.02281405]]\n"
     ]
    }
   ],
   "source": [
    "# Hacemos una reduccion de U, Sigma, VT, a 3 dimesiones para mejorar la division de los grupos\n",
    "\n",
    "# U\n",
    "n_elements = 3\n",
    "UReduced3 = U[:, :n_elements]\n",
    "print('U Reducida:\\n', UReduced3)\n",
    "\n",
    "# Sigma\n",
    "SigmaReduced3 = Sigma[:n_elements, :n_elements]\n",
    "print('Matriz Sigma Reducida:\\n', SigmaReduced3)\n",
    "\n",
    "# VT\n",
    "VTReduced3 = VT[:n_elements, :]\n",
    "print('VT Reducida:\\n', VTReduced3)\n",
    "\n",
    "# A reducida\n",
    "\n",
    "AReduced3 = UReduced3.dot(SigmaReduced3.dot(VTReduced3))\n",
    "print('Matriz A Transformada:\\n', AReduced3)"
   ]
  },
  {
   "cell_type": "code",
   "execution_count": 42,
   "id": "e7b00574",
   "metadata": {},
   "outputs": [
    {
     "name": "stdout",
     "output_type": "stream",
     "text": [
      "Matriz T (3 dimensiones):\n",
      " [[-17.60855193  -1.59855173   0.74573717]\n",
      " [-17.07074326   1.90636402  -0.91411251]\n",
      " [-18.03248887   1.15028089  -0.38571754]\n",
      " [-15.23604486  -1.86290932  -1.73830731]\n",
      " [-16.1634327   -1.6318778    1.10318989]\n",
      " [-17.7206514    2.12154237   0.09575169]\n",
      " [-16.65597775  -1.30716988   1.24751522]\n",
      " [-17.49591103   2.54709878   0.34792931]\n",
      " [-14.57497601  -1.41686385  -2.29512399]\n",
      " [-17.36793336  -0.58228904   1.32260625]]\n"
     ]
    }
   ],
   "source": [
    "T3 = UReduced3.dot(SigmaReduced3)\n",
    "print('Matriz T (3 dimensiones):\\n', T3)"
   ]
  },
  {
   "cell_type": "code",
   "execution_count": 43,
   "id": "9eba30bc",
   "metadata": {},
   "outputs": [],
   "source": [
    "# importamos libreria para grafica 3D\n",
    "\n",
    "from mpl_toolkits import mplot3d\n",
    "%matplotlib inline"
   ]
  },
  {
   "cell_type": "code",
   "execution_count": 44,
   "id": "2d548640",
   "metadata": {},
   "outputs": [
    {
     "data": {
      "text/html": [
       "<div>\n",
       "<style scoped>\n",
       "    .dataframe tbody tr th:only-of-type {\n",
       "        vertical-align: middle;\n",
       "    }\n",
       "\n",
       "    .dataframe tbody tr th {\n",
       "        vertical-align: top;\n",
       "    }\n",
       "\n",
       "    .dataframe thead th {\n",
       "        text-align: right;\n",
       "    }\n",
       "</style>\n",
       "<table border=\"1\" class=\"dataframe\">\n",
       "  <thead>\n",
       "    <tr style=\"text-align: right;\">\n",
       "      <th></th>\n",
       "      <th>a</th>\n",
       "      <th>b</th>\n",
       "      <th>c</th>\n",
       "    </tr>\n",
       "  </thead>\n",
       "  <tbody>\n",
       "    <tr>\n",
       "      <th>0</th>\n",
       "      <td>-17.608552</td>\n",
       "      <td>-1.598552</td>\n",
       "      <td>0.745737</td>\n",
       "    </tr>\n",
       "    <tr>\n",
       "      <th>1</th>\n",
       "      <td>-17.070743</td>\n",
       "      <td>1.906364</td>\n",
       "      <td>-0.914113</td>\n",
       "    </tr>\n",
       "    <tr>\n",
       "      <th>2</th>\n",
       "      <td>-18.032489</td>\n",
       "      <td>1.150281</td>\n",
       "      <td>-0.385718</td>\n",
       "    </tr>\n",
       "    <tr>\n",
       "      <th>3</th>\n",
       "      <td>-15.236045</td>\n",
       "      <td>-1.862909</td>\n",
       "      <td>-1.738307</td>\n",
       "    </tr>\n",
       "    <tr>\n",
       "      <th>4</th>\n",
       "      <td>-16.163433</td>\n",
       "      <td>-1.631878</td>\n",
       "      <td>1.103190</td>\n",
       "    </tr>\n",
       "    <tr>\n",
       "      <th>5</th>\n",
       "      <td>-17.720651</td>\n",
       "      <td>2.121542</td>\n",
       "      <td>0.095752</td>\n",
       "    </tr>\n",
       "    <tr>\n",
       "      <th>6</th>\n",
       "      <td>-16.655978</td>\n",
       "      <td>-1.307170</td>\n",
       "      <td>1.247515</td>\n",
       "    </tr>\n",
       "    <tr>\n",
       "      <th>7</th>\n",
       "      <td>-17.495911</td>\n",
       "      <td>2.547099</td>\n",
       "      <td>0.347929</td>\n",
       "    </tr>\n",
       "    <tr>\n",
       "      <th>8</th>\n",
       "      <td>-14.574976</td>\n",
       "      <td>-1.416864</td>\n",
       "      <td>-2.295124</td>\n",
       "    </tr>\n",
       "    <tr>\n",
       "      <th>9</th>\n",
       "      <td>-17.367933</td>\n",
       "      <td>-0.582289</td>\n",
       "      <td>1.322606</td>\n",
       "    </tr>\n",
       "  </tbody>\n",
       "</table>\n",
       "</div>"
      ],
      "text/plain": [
       "           a         b         c\n",
       "0 -17.608552 -1.598552  0.745737\n",
       "1 -17.070743  1.906364 -0.914113\n",
       "2 -18.032489  1.150281 -0.385718\n",
       "3 -15.236045 -1.862909 -1.738307\n",
       "4 -16.163433 -1.631878  1.103190\n",
       "5 -17.720651  2.121542  0.095752\n",
       "6 -16.655978 -1.307170  1.247515\n",
       "7 -17.495911  2.547099  0.347929\n",
       "8 -14.574976 -1.416864 -2.295124\n",
       "9 -17.367933 -0.582289  1.322606"
      ]
     },
     "execution_count": 44,
     "metadata": {},
     "output_type": "execute_result"
    }
   ],
   "source": [
    "# T3 lo convertimos en DF\n",
    "\n",
    "df3 = pd.DataFrame(T3, columns = ['a','b','c'])\n",
    "df3"
   ]
  },
  {
   "cell_type": "code",
   "execution_count": 45,
   "id": "2dd29493",
   "metadata": {},
   "outputs": [
    {
     "data": {
      "text/plain": [
       "<mpl_toolkits.mplot3d.art3d.Path3DCollection at 0x1f60ada1d50>"
      ]
     },
     "execution_count": 45,
     "metadata": {},
     "output_type": "execute_result"
    },
    {
     "data": {
      "image/png": "[encoded data removed]",
      "text/plain": [
       "<Figure size 640x480 with 1 Axes>"
      ]
     },
     "metadata": {},
     "output_type": "display_data"
    }
   ],
   "source": [
    "# grafica 3D\n",
    "\n",
    "fig, plt.figure()\n",
    "ax = plt.axes(projection = '3d')\n",
    "xline = df3['b']\n",
    "yline = df3['c']\n",
    "zline = df3['a']\n",
    "ax.scatter3D(xline, yline, zline)"
   ]
  },
  {
   "cell_type": "code",
   "execution_count": 46,
   "id": "5a67f83a",
   "metadata": {},
   "outputs": [
    {
     "data": {
      "text/html": [
       "<div>\n",
       "<style scoped>\n",
       "    .dataframe tbody tr th:only-of-type {\n",
       "        vertical-align: middle;\n",
       "    }\n",
       "\n",
       "    .dataframe tbody tr th {\n",
       "        vertical-align: top;\n",
       "    }\n",
       "\n",
       "    .dataframe thead th {\n",
       "        text-align: right;\n",
       "    }\n",
       "</style>\n",
       "<table border=\"1\" class=\"dataframe\">\n",
       "  <thead>\n",
       "    <tr style=\"text-align: right;\">\n",
       "      <th></th>\n",
       "      <th>Matematicas</th>\n",
       "      <th>Ciencias</th>\n",
       "      <th>Español</th>\n",
       "      <th>Historia</th>\n",
       "      <th>EFisica</th>\n",
       "    </tr>\n",
       "  </thead>\n",
       "  <tbody>\n",
       "    <tr>\n",
       "      <th>0</th>\n",
       "      <td>0.344364</td>\n",
       "      <td>-0.430689</td>\n",
       "      <td>0.745031</td>\n",
       "      <td>-0.040416</td>\n",
       "      <td>-0.610530</td>\n",
       "    </tr>\n",
       "    <tr>\n",
       "      <th>1</th>\n",
       "      <td>-0.002598</td>\n",
       "      <td>0.244539</td>\n",
       "      <td>-0.176277</td>\n",
       "      <td>-0.628011</td>\n",
       "      <td>0.608460</td>\n",
       "    </tr>\n",
       "    <tr>\n",
       "      <th>2</th>\n",
       "      <td>-0.062888</td>\n",
       "      <td>0.137465</td>\n",
       "      <td>-0.077484</td>\n",
       "      <td>-0.244774</td>\n",
       "      <td>0.259671</td>\n",
       "    </tr>\n",
       "    <tr>\n",
       "      <th>3</th>\n",
       "      <td>-0.613098</td>\n",
       "      <td>0.841329</td>\n",
       "      <td>-0.915786</td>\n",
       "      <td>-0.580141</td>\n",
       "      <td>1.278106</td>\n",
       "    </tr>\n",
       "    <tr>\n",
       "      <th>4</th>\n",
       "      <td>-0.059420</td>\n",
       "      <td>-0.245912</td>\n",
       "      <td>0.004628</td>\n",
       "      <td>0.933065</td>\n",
       "      <td>-0.696981</td>\n",
       "    </tr>\n",
       "    <tr>\n",
       "      <th>5</th>\n",
       "      <td>-0.031566</td>\n",
       "      <td>-0.004552</td>\n",
       "      <td>-0.031183</td>\n",
       "      <td>0.112463</td>\n",
       "      <td>-0.054170</td>\n",
       "    </tr>\n",
       "    <tr>\n",
       "      <th>6</th>\n",
       "      <td>-0.057851</td>\n",
       "      <td>-0.300210</td>\n",
       "      <td>0.245136</td>\n",
       "      <td>0.871384</td>\n",
       "      <td>-0.828757</td>\n",
       "    </tr>\n",
       "    <tr>\n",
       "      <th>7</th>\n",
       "      <td>0.030262</td>\n",
       "      <td>-0.101718</td>\n",
       "      <td>-0.038813</td>\n",
       "      <td>0.310488</td>\n",
       "      <td>-0.214972</td>\n",
       "    </tr>\n",
       "    <tr>\n",
       "      <th>8</th>\n",
       "      <td>0.519463</td>\n",
       "      <td>0.329382</td>\n",
       "      <td>-0.517894</td>\n",
       "      <td>-1.672153</td>\n",
       "      <td>1.519845</td>\n",
       "    </tr>\n",
       "    <tr>\n",
       "      <th>9</th>\n",
       "      <td>-0.066873</td>\n",
       "      <td>-0.337021</td>\n",
       "      <td>0.567863</td>\n",
       "      <td>0.693021</td>\n",
       "      <td>-0.930069</td>\n",
       "    </tr>\n",
       "  </tbody>\n",
       "</table>\n",
       "</div>"
      ],
      "text/plain": [
       "   Matematicas  Ciencias   Español  Historia   EFisica\n",
       "0     0.344364 -0.430689  0.745031 -0.040416 -0.610530\n",
       "1    -0.002598  0.244539 -0.176277 -0.628011  0.608460\n",
       "2    -0.062888  0.137465 -0.077484 -0.244774  0.259671\n",
       "3    -0.613098  0.841329 -0.915786 -0.580141  1.278106\n",
       "4    -0.059420 -0.245912  0.004628  0.933065 -0.696981\n",
       "5    -0.031566 -0.004552 -0.031183  0.112463 -0.054170\n",
       "6    -0.057851 -0.300210  0.245136  0.871384 -0.828757\n",
       "7     0.030262 -0.101718 -0.038813  0.310488 -0.214972\n",
       "8     0.519463  0.329382 -0.517894 -1.672153  1.519845\n",
       "9    -0.066873 -0.337021  0.567863  0.693021 -0.930069"
      ]
     },
     "execution_count": 46,
     "metadata": {},
     "output_type": "execute_result"
    }
   ],
   "source": [
    "# calculamos los errores para 2 dimensiones\n",
    "\n",
    "error2 = B - AReduced2\n",
    "\n",
    "# convertimos a DF\n",
    "\n",
    "dferror2 = pd.DataFrame(error2, columns = ['Matematicas','Ciencias','Español','Historia','EFisica'])\n",
    "dferror2"
   ]
  },
  {
   "cell_type": "code",
   "execution_count": 47,
   "id": "4366dfba",
   "metadata": {},
   "outputs": [
    {
     "data": {
      "text/plain": [
       "<Axes: >"
      ]
     },
     "execution_count": 47,
     "metadata": {},
     "output_type": "execute_result"
    },
    {
     "data": {
      "image/png": "[encoded data removed]",
      "text/plain": [
       "<Figure size 1000x700 with 1 Axes>"
      ]
     },
     "metadata": {},
     "output_type": "display_data"
    }
   ],
   "source": [
    "# graficamos\n",
    "\n",
    "plt.figure(figsize = (10,7))\n",
    "dferror2.boxplot()"
   ]
  },
  {
   "cell_type": "code",
   "execution_count": 48,
   "id": "060a51cc",
   "metadata": {},
   "outputs": [
    {
     "name": "stdout",
     "output_type": "stream",
     "text": [
      "Errores promedio por columna\n"
     ]
    },
    {
     "data": {
      "text/plain": [
       "array([-2.04650684e-05,  1.32612606e-02, -1.94778869e-02, -2.45074289e-02,\n",
       "        3.30602005e-02])"
      ]
     },
     "execution_count": 48,
     "metadata": {},
     "output_type": "execute_result"
    }
   ],
   "source": [
    "# calculamos la media del error de cada columna(variable)\n",
    "\n",
    "print('Errores promedio por columna')\n",
    "error2.mean(axis = 0)"
   ]
  },
  {
   "cell_type": "code",
   "execution_count": 51,
   "id": "51065247",
   "metadata": {},
   "outputs": [
    {
     "data": {
      "text/html": [
       "<div>\n",
       "<style scoped>\n",
       "    .dataframe tbody tr th:only-of-type {\n",
       "        vertical-align: middle;\n",
       "    }\n",
       "\n",
       "    .dataframe tbody tr th {\n",
       "        vertical-align: top;\n",
       "    }\n",
       "\n",
       "    .dataframe thead th {\n",
       "        text-align: right;\n",
       "    }\n",
       "</style>\n",
       "<table border=\"1\" class=\"dataframe\">\n",
       "  <thead>\n",
       "    <tr style=\"text-align: right;\">\n",
       "      <th></th>\n",
       "      <th>Matematicas</th>\n",
       "      <th>Ciencias</th>\n",
       "      <th>Español</th>\n",
       "      <th>Historia</th>\n",
       "      <th>EFisica</th>\n",
       "    </tr>\n",
       "  </thead>\n",
       "  <tbody>\n",
       "    <tr>\n",
       "      <th>0</th>\n",
       "      <td>0.347541</td>\n",
       "      <td>-0.227627</td>\n",
       "      <td>0.509577</td>\n",
       "      <td>-0.485121</td>\n",
       "      <td>-0.098984</td>\n",
       "    </tr>\n",
       "    <tr>\n",
       "      <th>1</th>\n",
       "      <td>-0.006492</td>\n",
       "      <td>-0.004371</td>\n",
       "      <td>0.112339</td>\n",
       "      <td>-0.082900</td>\n",
       "      <td>-0.018585</td>\n",
       "    </tr>\n",
       "    <tr>\n",
       "      <th>2</th>\n",
       "      <td>-0.064532</td>\n",
       "      <td>0.032436</td>\n",
       "      <td>0.044300</td>\n",
       "      <td>-0.014760</td>\n",
       "      <td>-0.004916</td>\n",
       "    </tr>\n",
       "    <tr>\n",
       "      <th>3</th>\n",
       "      <td>-0.620504</td>\n",
       "      <td>0.367993</td>\n",
       "      <td>-0.366944</td>\n",
       "      <td>0.456461</td>\n",
       "      <td>0.085697</td>\n",
       "    </tr>\n",
       "    <tr>\n",
       "      <th>4</th>\n",
       "      <td>-0.054719</td>\n",
       "      <td>0.054483</td>\n",
       "      <td>-0.343686</td>\n",
       "      <td>0.275202</td>\n",
       "      <td>0.059763</td>\n",
       "    </tr>\n",
       "    <tr>\n",
       "      <th>5</th>\n",
       "      <td>-0.031158</td>\n",
       "      <td>0.021521</td>\n",
       "      <td>-0.061415</td>\n",
       "      <td>0.055364</td>\n",
       "      <td>0.011512</td>\n",
       "    </tr>\n",
       "    <tr>\n",
       "      <th>6</th>\n",
       "      <td>-0.052536</td>\n",
       "      <td>0.039484</td>\n",
       "      <td>-0.148746</td>\n",
       "      <td>0.127455</td>\n",
       "      <td>0.026989</td>\n",
       "    </tr>\n",
       "    <tr>\n",
       "      <th>7</th>\n",
       "      <td>0.031744</td>\n",
       "      <td>-0.006977</td>\n",
       "      <td>-0.148666</td>\n",
       "      <td>0.103008</td>\n",
       "      <td>0.023693</td>\n",
       "    </tr>\n",
       "    <tr>\n",
       "      <th>8</th>\n",
       "      <td>0.509685</td>\n",
       "      <td>-0.295573</td>\n",
       "      <td>0.206754</td>\n",
       "      <td>-0.303505</td>\n",
       "      <td>-0.054519</td>\n",
       "    </tr>\n",
       "    <tr>\n",
       "      <th>9</th>\n",
       "      <td>-0.061238</td>\n",
       "      <td>0.023121</td>\n",
       "      <td>0.150272</td>\n",
       "      <td>-0.095687</td>\n",
       "      <td>-0.022814</td>\n",
       "    </tr>\n",
       "  </tbody>\n",
       "</table>\n",
       "</div>"
      ],
      "text/plain": [
       "   Matematicas  Ciencias   Español  Historia   EFisica\n",
       "0     0.347541 -0.227627  0.509577 -0.485121 -0.098984\n",
       "1    -0.006492 -0.004371  0.112339 -0.082900 -0.018585\n",
       "2    -0.064532  0.032436  0.044300 -0.014760 -0.004916\n",
       "3    -0.620504  0.367993 -0.366944  0.456461  0.085697\n",
       "4    -0.054719  0.054483 -0.343686  0.275202  0.059763\n",
       "5    -0.031158  0.021521 -0.061415  0.055364  0.011512\n",
       "6    -0.052536  0.039484 -0.148746  0.127455  0.026989\n",
       "7     0.031744 -0.006977 -0.148666  0.103008  0.023693\n",
       "8     0.509685 -0.295573  0.206754 -0.303505 -0.054519\n",
       "9    -0.061238  0.023121  0.150272 -0.095687 -0.022814"
      ]
     },
     "execution_count": 51,
     "metadata": {},
     "output_type": "execute_result"
    }
   ],
   "source": [
    "# calculamos los errores para 3 dimensiones\n",
    "\n",
    "error3 = B - AReduced3\n",
    "\n",
    "# convertimos a DF\n",
    "\n",
    "dferror3 = pd.DataFrame(error3, columns = ['Matematicas','Ciencias','Español','Historia','EFisica'])\n",
    "dferror3"
   ]
  },
  {
   "cell_type": "code",
   "execution_count": 52,
   "id": "f5f011a9",
   "metadata": {},
   "outputs": [
    {
     "data": {
      "text/plain": [
       "<Axes: >"
      ]
     },
     "execution_count": 52,
     "metadata": {},
     "output_type": "execute_result"
    },
    {
     "data": {
      "image/png": "[encoded data removed]",
      "text/plain": [
       "<Figure size 1000x700 with 1 Axes>"
      ]
     },
     "metadata": {},
     "output_type": "display_data"
    }
   ],
   "source": [
    "# graficamos\n",
    "\n",
    "plt.figure(figsize = (10,7))\n",
    "dferror3.boxplot()"
   ]
  },
  {
   "cell_type": "code",
   "execution_count": 53,
   "id": "522ad958",
   "metadata": {},
   "outputs": [
    {
     "name": "stdout",
     "output_type": "stream",
     "text": [
      "Errores promedio por columna\n"
     ]
    },
    {
     "data": {
      "text/plain": [
       "array([-0.00022094,  0.00044883, -0.00462162,  0.00355172,  0.00078359])"
      ]
     },
     "execution_count": 53,
     "metadata": {},
     "output_type": "execute_result"
    }
   ],
   "source": [
    "# calculamos la media del error de cada columna(variable)\n",
    "\n",
    "print('Errores promedio por columna')\n",
    "error3.mean(axis = 0)"
   ]
  },
  {
   "cell_type": "code",
   "execution_count": null,
   "id": "25653219",
   "metadata": {},
   "outputs": [],
   "source": []
  }
 ],
 "metadata": {
  "kernelspec": {
   "display_name": "Python 3 (ipykernel)",
   "language": "python",
   "name": "python3"
  },
  "language_info": {
   "codemirror_mode": {
    "name": "ipython",
    "version": 3
   },
   "file_extension": ".py",
   "mimetype": "text/x-python",
   "name": "python",
   "nbconvert_exporter": "python",
   "pygments_lexer": "ipython3",
   "version": "3.11.5"
  }
 },
 "nbformat": 4,
 "nbformat_minor": 5
}
